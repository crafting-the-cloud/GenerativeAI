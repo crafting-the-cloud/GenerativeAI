{
 "cells": [
  {
   "cell_type": "markdown",
   "id": "124e5672",
   "metadata": {},
   "source": [
    "# Custom Chatbot Project"
   ]
  },
  {
   "cell_type": "markdown",
   "id": "2a4a94b3",
   "metadata": {},
   "source": [
    "### Fashion Trends Datase\n",
    "\n",
    "The dataset used for the project is the fashion trends dataset. \n",
    "\n",
    "The dataset seems bit challanging but not too complex, it just needed some data wrangling to clean the text column and git ride of the un needed ones, I removed the repeated words like \"2023 Fashion Trend: \" and the special characters to have a clean dataset without noises"
   ]
  },
  {
   "cell_type": "markdown",
   "id": "a63d4c5f",
   "metadata": {},
   "source": [
    "## Data Wrangling\n",
    "\n",
    "TODO: In the cells below, load your chosen dataset into a `pandas` dataframe with a column named `\"text\"`. This column should contain all of your text data, separated into at least 20 rows."
   ]
  },
  {
   "cell_type": "code",
   "execution_count": 32,
   "id": "c69b83a1",
   "metadata": {},
   "outputs": [],
   "source": [
    "import pandas as pd\n",
    "import numpy as np\n",
    "import ast\n",
    "import tiktoken\n",
    "from sklearn.metrics.pairwise import cosine_distances\n",
    "pd.set_option('display.max_colwidth', None)\n",
    "df = pd.read_csv(\"data/2023_fashion_trends.csv\")[['Trends']]\n",
    "df.columns= ['text']"
   ]
  },
  {
   "cell_type": "code",
   "execution_count": 33,
   "id": "4cc447a2-bec1-424a-a62a-1b3d413379f0",
   "metadata": {},
   "outputs": [
    {
     "data": {
      "text/html": [
       "<div>\n",
       "<style scoped>\n",
       "    .dataframe tbody tr th:only-of-type {\n",
       "        vertical-align: middle;\n",
       "    }\n",
       "\n",
       "    .dataframe tbody tr th {\n",
       "        vertical-align: top;\n",
       "    }\n",
       "\n",
       "    .dataframe thead th {\n",
       "        text-align: right;\n",
       "    }\n",
       "</style>\n",
       "<table border=\"1\" class=\"dataframe\">\n",
       "  <thead>\n",
       "    <tr style=\"text-align: right;\">\n",
       "      <th></th>\n",
       "      <th>text</th>\n",
       "    </tr>\n",
       "  </thead>\n",
       "  <tbody>\n",
       "    <tr>\n",
       "      <th>0</th>\n",
       "      <td>2023 Fashion Trend: Red. Glossy red hues took over the Fall 2023 runways ranging from Sandy Liang and PatBo to Tory Burch and Wiederhoeft. Think: Juicy reds with vibrant orange undertones that would look just as good in head-to-toe looks (see: a pantsuit) as accent accessory pieces (shoes, handbags, jewelry).</td>\n",
       "    </tr>\n",
       "    <tr>\n",
       "      <th>1</th>\n",
       "      <td>2023 Fashion Trend: Cargo Pants. Utilitarian wear is in for 2023, which sets the stage for the return of the cargo pant. But these aren't the shapeless, low-rise pants of the Y2K era. For spring, this trend is translated into tailored silhouettes, interesting pocket placements, elevated fabrics like silk and organza, and colors that go beyond khaki and olive.</td>\n",
       "    </tr>\n",
       "    <tr>\n",
       "      <th>2</th>\n",
       "      <td>2023 Fashion Trend: Sheer Clothing. \"Bare it all\" has been the motto since the end of the lockdown. In 2023,  naked dressing makes its way from the red carpet – where celebrities like Cher and Rihanna have been sporting the trend forever – to street style. From a cellophane-like dress, worn over a boldly hued maxi skirt at Tory Burch's spring 2023 show, to a frothy frock revealing undergarments at Victoria Beckham, the previously risqué trend is coming not only for your weekend wardrobe but even workwear.</td>\n",
       "    </tr>\n",
       "    <tr>\n",
       "      <th>3</th>\n",
       "      <td>2023 Fashion Trend: Denim Reimagined. From double-waisted jeans to carpenter jeans, it's been a while since we were this excited about denim trends. It seems like even the most luxe runway designers agree, sending out strapless dresses, shirting, and even undergarments and shoes (thigh-high-boot-jean hybrids anyone?) in the material. Whatever category you decide on, opt for timeless cuts and silhouettes that can stay in your closet rotation once the novelty wears off.</td>\n",
       "    </tr>\n",
       "    <tr>\n",
       "      <th>4</th>\n",
       "      <td>2023 Fashion Trend: Shine For The Daytime. The amount of shine on the 2023 runways would make you think we are back in the Roaring '20s. While sequins may feel over as soon as the clock strikes midnight on January 31, this year, designers are making a case for \"daytime shine\" – wearable separates that can spice up even the most basic staples like tank tops (see above) and blue jeans. While this trend comes in all metallic shades (gold, bronze, rose gold etc.), we are partial to the liquid silver look that can double as a neutral.</td>\n",
       "    </tr>\n",
       "    <tr>\n",
       "      <th>5</th>\n",
       "      <td>2023 Fashion Trend: Maxi Skirts. In response to the ultra unpractical mini skirts of 2022, maxi skirts are here to dominate the year. In line with the aforementioned cargo and denim trends, expect lots of low-rise, pocket-adorned silhouettes and floor-grazing jean skirts, as well as styles in various prints and unexpected materials like velvet. Long live long hemlines!</td>\n",
       "    </tr>\n",
       "    <tr>\n",
       "      <th>6</th>\n",
       "      <td>2023 Fashion Trend: Cobalt Blue. The strongest color story to come out of Spring 2023 runways, cobalt blue has burst through the collections with the freshness of a sea mist on a morning day. Just bright enough to warrant a double take, yet subtle enough to be worked into daily wear, it's the type of deep blue that will excite even the most color-averse. Bonus points: It pairs well with Pantone's Viva Magenta.</td>\n",
       "    </tr>\n",
       "    <tr>\n",
       "      <th>7</th>\n",
       "      <td>Sculptural Bags That Make a Simple Statement. Under the accessories category, CEO and founder of Caitlin Jaymes Organizing &amp; Styling, Caitlyn Jaymes is honing in on sculptural bags that are simple enough to be considered versatile but still make a statement.\\n\\n“[For everyday use], I would purchase it in camel, ivory, or, if I wanted a color option, I would purchase pale green or pale yellow,” she tells InStyle. The style expert goes on to say she could style the staple item in a myriad of ways, but for a casual look, something along the lines of a “straight leg jeans, light knit cardigan, and a white slim sneaker” combo would be her go-to. For dressier occasions, she tells the dot com she’d likely “pair a slip satin long skirt with a white ribbed tank and pointed toe kitten heels.”</td>\n",
       "    </tr>\n",
       "    <tr>\n",
       "      <th>8</th>\n",
       "      <td>All of the Pastels. Pastels are classic (albeit slightly cliche) for spring, but they’re often given a bad rap for feeling a bit cheesy. Personal stylist Allie McKenna is here to tell you they’re not.\\n\\n“I am excited about color, especially lilac, pale yellow, and baby blue. I can’t wait to wear a baby blue midi skirt and a silky cami with some chunky colorful jewelry. I will always go for a statement shoe too, so a funky pair of 3-inch heels that compliment the outfit will be a must as well.”</td>\n",
       "    </tr>\n",
       "    <tr>\n",
       "      <th>9</th>\n",
       "      <td>Denim-On-Denim. McKenna’s second most anticipated fashion trend for spring 2023 is the return of the Canadian tuxedo, again.\\n\\n“To be completely honest, I have always loved this trend and I am excited to see it back in the mainstream. I can’t wait to wear a denim maxi skirt, a corresponding denim corset top, and some chunky platforms out with my girlfriends this Spring.”</td>\n",
       "    </tr>\n",
       "    <tr>\n",
       "      <th>10</th>\n",
       "      <td>More Maxi Skirt Moments. Fashion expert and stylist Naina Singla tells InStyle that if you’re going to invest in something new this spring, let it be a statement maxi skirt. “They are a versatile wardrobe staple worth investing in and are perfect for every season,” Singla gushes via email. Plus, with the surge of Y2K influence in the fashion sphere, Singla says long maxi styles with skirts fit the bill.\\n\\n“A maxi skirt is a piece that easily transitions from day to night and comes in a range of styles,” she explains. “Right now, we are seeing denim, satin slip skirts, and knitted skirts in maxi length.”</td>\n",
       "    </tr>\n",
       "    <tr>\n",
       "      <th>11</th>\n",
       "      <td>Platform Slip-Ons. Though the platform slip-ons you know and love from the 2000s have been in style for a while now (thanks, in part, to the almost-revival of Lizzie McGuire), personal stylist and image consultant Andie Sobrato tells InStyle the nostalgic footwear will be especially popular for spring 2023, with plenty of bold, printed pairs to choose from.\\n\\n“I am excited to throw on a daisy, polka dot, or bright platform slip-on with a cropped jean and button-up shirt,” Sobrato says via email.” These relaxed and fun shoes will be the standout of any outfit and bring a youthful energy that we all need.”</td>\n",
       "    </tr>\n",
       "    <tr>\n",
       "      <th>12</th>\n",
       "      <td>More Mesh. Another Y2K-esque fashion statement to be made this spring: Mesh.\\n\\n“In particular, a mesh long-sleeve top or bodycon dress,” Sobrato tells InStyle. “These mesh dresses and tops can be in a solid, bright color or featuring a bold print and are a perfect way to add texture and dimension to your wardrobe; they show just enough skin to be sexy but hide enough to leave mystery.”</td>\n",
       "    </tr>\n",
       "    <tr>\n",
       "      <th>13</th>\n",
       "      <td>Transparent Layering. Celebrities have been all over sheer dressing for a while now, but the spring runways prove that the see-through trend is ready to go mainstream. Nearly every designer experimented with whisper-thin fabrics, offering the option to bare it all under a gossamer-like piece (or play with peekaboo underwear). For a more office-appropriate take, you can play with layering various sheer pieces over one another.</td>\n",
       "    </tr>\n",
       "    <tr>\n",
       "      <th>14</th>\n",
       "      <td>’90s Minimalism. As opposed to last spring’s dopamine-dressing head rush, many of this season’s most striking looks have been subdued—less Euphoria, more Phoebe Philo. There’s always an occasion for wardrobe essentials like a blazer that’s tailored to perfection, a formfitting tee, or a loose pair of trousers.</td>\n",
       "    </tr>\n",
       "    <tr>\n",
       "      <th>15</th>\n",
       "      <td>Romantic Femininity. Balletcore is here to stay, thanks to big, ruffled stamp of approval from the runways. It’s no surprise that coquettish labels like Simone Rocha and Sandy Liang went all in on the skirts, tulle, and lace, but even Dior and Victoria Beckham were on the exact same page. Time to dust off those ballet flats from high school.</td>\n",
       "    </tr>\n",
       "    <tr>\n",
       "      <th>16</th>\n",
       "      <td>New-School Fringe. Fringe has long been associated with boho, western-influenced style, but it’s going in a new direction this spring. A number of designers showed the detailing in new ways, from drippy sleeves at Proenza Schouler to ultra-textured shag dresses at Jil Sander. Consider it carte blanche to take fringe in any direction you choose.</td>\n",
       "    </tr>\n",
       "    <tr>\n",
       "      <th>17</th>\n",
       "      <td>Flashy Metallics. Sequins and shiny finishes showed up on too many catwalks to count, meaning it’s high time to add a little flash to your rotation. There’s no wrong approach, whether you go for a metallic miniskirt or chrome shoes.</td>\n",
       "    </tr>\n",
       "    <tr>\n",
       "      <th>18</th>\n",
       "      <td>Oversized Bags. As cute as they can be, tiny bags aren’t the most practical accessories. But we’ve got great news: Brands supersized their purses this spring, showing styles that have plenty of room for groceries, laptops, hardcover books, and pretty much anything else you could want on your person. If you’re on the hunt for a new work bag, this is your sign that bigger is officially better.</td>\n",
       "    </tr>\n",
       "    <tr>\n",
       "      <th>19</th>\n",
       "      <td>Baggy Denim. Denim remains just as baggy this season as it has been—if not even looser than before. A great light-wash pair of jeans has virtually endless styling potential; take a cue from Bottega Veneta and pair yours with a worn-in flannel or play with denim-on-denim à la Bally.</td>\n",
       "    </tr>\n",
       "    <tr>\n",
       "      <th>20</th>\n",
       "      <td>Moto Detailing. You’ll probably never become a motocross racer, but if the spring runways are any indication, it’s worth dressing like one. Racing jackets, mixed leather, and buckle details abound this season, adding a high-octane edge to any ’fit—no actual bikes necessary.</td>\n",
       "    </tr>\n",
       "    <tr>\n",
       "      <th>21</th>\n",
       "      <td>Dreamy Rosettes. We know, we know: Florals for spring usually aren’t groundbreaking. But this season brands like Acne Studios, Loewe, and Dries Van Noten brought flowers into the third dimension, adding delicate rosette details to otherwise more minimal pieces.</td>\n",
       "    </tr>\n",
       "    <tr>\n",
       "      <th>22</th>\n",
       "      <td>Perfectly Imperfect. I recently wore Prada’s satin midi skirt during New York Fashion Week, which debuted on the designer’s spring 2023 runway in Milan last fall. The style evokes a sense of “unfinishedness,” featuring an irregularly dyed print and a slit that is made to look like the skirt is torn. – Lisa Aiken, executive fashion director, Vogue.com</td>\n",
       "    </tr>\n",
       "    <tr>\n",
       "      <th>23</th>\n",
       "      <td>Blazers Become Cinched. When ultimate cool-girl Chloe Sevigny stepped out in Proenza Schouler’s Fall 2023 runway show during NYFW earlier this month, it only reconfirmed the cinched waist trend. I can't stop thinking about it and am looking to emulate this chic office-ready look now for spring. – Julie Tong, commerce director</td>\n",
       "    </tr>\n",
       "    <tr>\n",
       "      <th>24</th>\n",
       "      <td>Moto-Inspired. A luxe piece of leather is simultaneously elegant and edgy. Inspired by the biker jackets seen on the spring runways, I'm gravitating toward this cropped style from Musier Paris. To match, Mango's sleek leather midi skirt is a must-have in my wardrobe this season. Accessory-wise, toughened-up biker boots from &amp; Other Stories and Prada's Moon bag are at the top of my shopping list.– Laura Jackson, commerce writer</td>\n",
       "    </tr>\n",
       "    <tr>\n",
       "      <th>25</th>\n",
       "      <td>Bold Color Bottoms. As someone who tends to lean on a denim crutch most days, this Spring, I’m excited to try a few bold color options like what we saw on the runways of Bottega Veneta, Prada, and Dries Van Noten. These bold, cherry red pants from High Sport are my starting point: their vibrant hue is as immediately uplifting as it is unexpected. I look forward to pairing with whisper-thin henleys, crisp white shirts, and every shoe varietal—the cropped length really lends itself to each and every one.– Daisy Shaw-Ellis, jewelry director</td>\n",
       "    </tr>\n",
       "    <tr>\n",
       "      <th>26</th>\n",
       "      <td>Bright White Footwear. I'm excited to lighten up my shoe collection this spring with bright white mules and comfy loafers, inspired by Bottega Veneta, Jil Sander, Dries Van Noten, and more of the collections that used white footwear to ground their spring 2023 looks. – Alexis Bennett, commerce writer</td>\n",
       "    </tr>\n",
       "    <tr>\n",
       "      <th>27</th>\n",
       "      <td>Sculptural Statement Earrings. For me, this spring will be all about the statement earring. I recently realized my jewelry box was seriously lacking. While I initially prioritized replenishing my assortment of everyday earrings and necklaces, I constantly kept gravitating toward a bold earring. Sculptural hoops, dangles, and gems are all fair game.– Kiana Murden, commerce beauty writer</td>\n",
       "    </tr>\n",
       "    <tr>\n",
       "      <th>28</th>\n",
       "      <td>New Neoclassical. I am always smitten with ladylike pieces, and few do that better than Giambattista Valli. For his spring collection, he sent out pieces down the runway which featured, yes, his signature bouclé tweeds but also pieces adorned with gold braided shoulder straps and gold piping. (Several other labels, from Pucci to Bevza, also embraced the same vibe.) The effect is one that feels Grecian but with a modern twist. Let’s call it the new, neoclassical. – Lilah Ramzi, commerce editor</td>\n",
       "    </tr>\n",
       "    <tr>\n",
       "      <th>29</th>\n",
       "      <td>Detailed Denim. I’m very excited for all of spring’s not-so-basic denim, like this maxiskirt from one of my favorite shows of the season, Altuzarra. —Willow Lindley, accessories and collaborations director</td>\n",
       "    </tr>\n",
       "  </tbody>\n",
       "</table>\n",
       "</div>"
      ],
      "text/plain": [
       "                                                                                                                                                                                                                                                                                                                                                                                                                                                                                                                                                                                                                                                                                                                                                                                                                         text\n",
       "0                                                                                                                                                                                                                                                                                                                                                                                                                                                                                                      2023 Fashion Trend: Red. Glossy red hues took over the Fall 2023 runways ranging from Sandy Liang and PatBo to Tory Burch and Wiederhoeft. Think: Juicy reds with vibrant orange undertones that would look just as good in head-to-toe looks (see: a pantsuit) as accent accessory pieces (shoes, handbags, jewelry).\n",
       "1                                                                                                                                                                                                                                                                                                                                                                                                                                                   2023 Fashion Trend: Cargo Pants. Utilitarian wear is in for 2023, which sets the stage for the return of the cargo pant. But these aren't the shapeless, low-rise pants of the Y2K era. For spring, this trend is translated into tailored silhouettes, interesting pocket placements, elevated fabrics like silk and organza, and colors that go beyond khaki and olive.\n",
       "2                                                                                                                                                                                                                                                                                              2023 Fashion Trend: Sheer Clothing. \"Bare it all\" has been the motto since the end of the lockdown. In 2023,  naked dressing makes its way from the red carpet – where celebrities like Cher and Rihanna have been sporting the trend forever – to street style. From a cellophane-like dress, worn over a boldly hued maxi skirt at Tory Burch's spring 2023 show, to a frothy frock revealing undergarments at Victoria Beckham, the previously risqué trend is coming not only for your weekend wardrobe but even workwear.\n",
       "3                                                                                                                                                                                                                                                                                                                                    2023 Fashion Trend: Denim Reimagined. From double-waisted jeans to carpenter jeans, it's been a while since we were this excited about denim trends. It seems like even the most luxe runway designers agree, sending out strapless dresses, shirting, and even undergarments and shoes (thigh-high-boot-jean hybrids anyone?) in the material. Whatever category you decide on, opt for timeless cuts and silhouettes that can stay in your closet rotation once the novelty wears off.\n",
       "4                                                                                                                                                                                                                                                                     2023 Fashion Trend: Shine For The Daytime. The amount of shine on the 2023 runways would make you think we are back in the Roaring '20s. While sequins may feel over as soon as the clock strikes midnight on January 31, this year, designers are making a case for \"daytime shine\" – wearable separates that can spice up even the most basic staples like tank tops (see above) and blue jeans. While this trend comes in all metallic shades (gold, bronze, rose gold etc.), we are partial to the liquid silver look that can double as a neutral.\n",
       "5                                                                                                                                                                                                                                                                                                                                                                                                                                         2023 Fashion Trend: Maxi Skirts. In response to the ultra unpractical mini skirts of 2022, maxi skirts are here to dominate the year. In line with the aforementioned cargo and denim trends, expect lots of low-rise, pocket-adorned silhouettes and floor-grazing jean skirts, as well as styles in various prints and unexpected materials like velvet. Long live long hemlines!\n",
       "6                                                                                                                                                                                                                                                                                                                                                                                               2023 Fashion Trend: Cobalt Blue. The strongest color story to come out of Spring 2023 runways, cobalt blue has burst through the collections with the freshness of a sea mist on a morning day. Just bright enough to warrant a double take, yet subtle enough to be worked into daily wear, it's the type of deep blue that will excite even the most color-averse. Bonus points: It pairs well with Pantone's Viva Magenta.\n",
       "7   Sculptural Bags That Make a Simple Statement. Under the accessories category, CEO and founder of Caitlin Jaymes Organizing & Styling, Caitlyn Jaymes is honing in on sculptural bags that are simple enough to be considered versatile but still make a statement.\\n\\n“[For everyday use], I would purchase it in camel, ivory, or, if I wanted a color option, I would purchase pale green or pale yellow,” she tells InStyle. The style expert goes on to say she could style the staple item in a myriad of ways, but for a casual look, something along the lines of a “straight leg jeans, light knit cardigan, and a white slim sneaker” combo would be her go-to. For dressier occasions, she tells the dot com she’d likely “pair a slip satin long skirt with a white ribbed tank and pointed toe kitten heels.”\n",
       "8                                                                                                                                                                                                                                                                                                         All of the Pastels. Pastels are classic (albeit slightly cliche) for spring, but they’re often given a bad rap for feeling a bit cheesy. Personal stylist Allie McKenna is here to tell you they’re not.\\n\\n“I am excited about color, especially lilac, pale yellow, and baby blue. I can’t wait to wear a baby blue midi skirt and a silky cami with some chunky colorful jewelry. I will always go for a statement shoe too, so a funky pair of 3-inch heels that compliment the outfit will be a must as well.”\n",
       "9                                                                                                                                                                                                                                                                                                                                                                                                                                      Denim-On-Denim. McKenna’s second most anticipated fashion trend for spring 2023 is the return of the Canadian tuxedo, again.\\n\\n“To be completely honest, I have always loved this trend and I am excited to see it back in the mainstream. I can’t wait to wear a denim maxi skirt, a corresponding denim corset top, and some chunky platforms out with my girlfriends this Spring.”\n",
       "10                                                                                                                                                                                        More Maxi Skirt Moments. Fashion expert and stylist Naina Singla tells InStyle that if you’re going to invest in something new this spring, let it be a statement maxi skirt. “They are a versatile wardrobe staple worth investing in and are perfect for every season,” Singla gushes via email. Plus, with the surge of Y2K influence in the fashion sphere, Singla says long maxi styles with skirts fit the bill.\\n\\n“A maxi skirt is a piece that easily transitions from day to night and comes in a range of styles,” she explains. “Right now, we are seeing denim, satin slip skirts, and knitted skirts in maxi length.”\n",
       "11                                                                                                                                                                                       Platform Slip-Ons. Though the platform slip-ons you know and love from the 2000s have been in style for a while now (thanks, in part, to the almost-revival of Lizzie McGuire), personal stylist and image consultant Andie Sobrato tells InStyle the nostalgic footwear will be especially popular for spring 2023, with plenty of bold, printed pairs to choose from.\\n\\n“I am excited to throw on a daisy, polka dot, or bright platform slip-on with a cropped jean and button-up shirt,” Sobrato says via email.” These relaxed and fun shoes will be the standout of any outfit and bring a youthful energy that we all need.”\n",
       "12                                                                                                                                                                                                                                                                                                                                                                                                                      More Mesh. Another Y2K-esque fashion statement to be made this spring: Mesh.\\n\\n“In particular, a mesh long-sleeve top or bodycon dress,” Sobrato tells InStyle. “These mesh dresses and tops can be in a solid, bright color or featuring a bold print and are a perfect way to add texture and dimension to your wardrobe; they show just enough skin to be sexy but hide enough to leave mystery.”\n",
       "13                                                                                                                                                                                                                                                                                                                                                                              Transparent Layering. Celebrities have been all over sheer dressing for a while now, but the spring runways prove that the see-through trend is ready to go mainstream. Nearly every designer experimented with whisper-thin fabrics, offering the option to bare it all under a gossamer-like piece (or play with peekaboo underwear). For a more office-appropriate take, you can play with layering various sheer pieces over one another.\n",
       "14                                                                                                                                                                                                                                                                                                                                                                                                                                                                                                   ’90s Minimalism. As opposed to last spring’s dopamine-dressing head rush, many of this season’s most striking looks have been subdued—less Euphoria, more Phoebe Philo. There’s always an occasion for wardrobe essentials like a blazer that’s tailored to perfection, a formfitting tee, or a loose pair of trousers. \n",
       "15                                                                                                                                                                                                                                                                                                                                                                                                                                                                    Romantic Femininity. Balletcore is here to stay, thanks to big, ruffled stamp of approval from the runways. It’s no surprise that coquettish labels like Simone Rocha and Sandy Liang went all in on the skirts, tulle, and lace, but even Dior and Victoria Beckham were on the exact same page. Time to dust off those ballet flats from high school.\n",
       "16                                                                                                                                                                                                                                                                                                                                                                                                                                                                 New-School Fringe. Fringe has long been associated with boho, western-influenced style, but it’s going in a new direction this spring. A number of designers showed the detailing in new ways, from drippy sleeves at Proenza Schouler to ultra-textured shag dresses at Jil Sander. Consider it carte blanche to take fringe in any direction you choose.\n",
       "17                                                                                                                                                                                                                                                                                                                                                                                                                                                                                                                                                                                   Flashy Metallics. Sequins and shiny finishes showed up on too many catwalks to count, meaning it’s high time to add a little flash to your rotation. There’s no wrong approach, whether you go for a metallic miniskirt or chrome shoes.\n",
       "18                                                                                                                                                                                                                                                                                                                                                                                                                 Oversized Bags. As cute as they can be, tiny bags aren’t the most practical accessories. But we’ve got great news: Brands supersized their purses this spring, showing styles that have plenty of room for groceries, laptops, hardcover books, and pretty much anything else you could want on your person. If you’re on the hunt for a new work bag, this is your sign that bigger is officially better.\n",
       "19                                                                                                                                                                                                                                                                                                                                                                                                                                                                                                                                Baggy Denim. Denim remains just as baggy this season as it has been—if not even looser than before. A great light-wash pair of jeans has virtually endless styling potential; take a cue from Bottega Veneta and pair yours with a worn-in flannel or play with denim-on-denim à la Bally. \n",
       "20                                                                                                                                                                                                                                                                                                                                                                                                                                                                                                                                         Moto Detailing. You’ll probably never become a motocross racer, but if the spring runways are any indication, it’s worth dressing like one. Racing jackets, mixed leather, and buckle details abound this season, adding a high-octane edge to any ’fit—no actual bikes necessary.\n",
       "21                                                                                                                                                                                                                                                                                                                                                                                                                                                                                                                                                    Dreamy Rosettes. We know, we know: Florals for spring usually aren’t groundbreaking. But this season brands like Acne Studios, Loewe, and Dries Van Noten brought flowers into the third dimension, adding delicate rosette details to otherwise more minimal pieces.  \n",
       "22                                                                                                                                                                                                                                                                                                                                                                                                                                                          Perfectly Imperfect. I recently wore Prada’s satin midi skirt during New York Fashion Week, which debuted on the designer’s spring 2023 runway in Milan last fall. The style evokes a sense of “unfinishedness,” featuring an irregularly dyed print and a slit that is made to look like the skirt is torn. – Lisa Aiken, executive fashion director, Vogue.com \n",
       "23                                                                                                                                                                                                                                                                                                                                                                                                                                                                                    Blazers Become Cinched. When ultimate cool-girl Chloe Sevigny stepped out in Proenza Schouler’s Fall 2023 runway show during NYFW earlier this month, it only reconfirmed the cinched waist trend. I can't stop thinking about it and am looking to emulate this chic office-ready look now for spring. – Julie Tong, commerce director\n",
       "24                                                                                                                                                                                                                                                                                                                                                                             Moto-Inspired. A luxe piece of leather is simultaneously elegant and edgy. Inspired by the biker jackets seen on the spring runways, I'm gravitating toward this cropped style from Musier Paris. To match, Mango's sleek leather midi skirt is a must-have in my wardrobe this season. Accessory-wise, toughened-up biker boots from & Other Stories and Prada's Moon bag are at the top of my shopping list.– Laura Jackson, commerce writer\n",
       "25                                                                                                                                                                                                                                                           Bold Color Bottoms. As someone who tends to lean on a denim crutch most days, this Spring, I’m excited to try a few bold color options like what we saw on the runways of Bottega Veneta, Prada, and Dries Van Noten. These bold, cherry red pants from High Sport are my starting point: their vibrant hue is as immediately uplifting as it is unexpected. I look forward to pairing with whisper-thin henleys, crisp white shirts, and every shoe varietal—the cropped length really lends itself to each and every one.– Daisy Shaw-Ellis, jewelry director \n",
       "26                                                                                                                                                                                                                                                                                                                                                                                                                                                                                                              Bright White Footwear. I'm excited to lighten up my shoe collection this spring with bright white mules and comfy loafers, inspired by Bottega Veneta, Jil Sander, Dries Van Noten, and more of the collections that used white footwear to ground their spring 2023 looks. – Alexis Bennett, commerce writer\n",
       "27                                                                                                                                                                                                                                                                                                                                                                                                                       Sculptural Statement Earrings. For me, this spring will be all about the statement earring. I recently realized my jewelry box was seriously lacking. While I initially prioritized replenishing my assortment of everyday earrings and necklaces, I constantly kept gravitating toward a bold earring. Sculptural hoops, dangles, and gems are all fair game.– Kiana Murden, commerce beauty writer\n",
       "28                                                                                                                                                                                                                                                                                                          New Neoclassical. I am always smitten with ladylike pieces, and few do that better than Giambattista Valli. For his spring collection, he sent out pieces down the runway which featured, yes, his signature bouclé tweeds but also pieces adorned with gold braided shoulder straps and gold piping. (Several other labels, from Pucci to Bevza, also embraced the same vibe.) The effect is one that feels Grecian but with a modern twist. Let’s call it the new, neoclassical. – Lilah Ramzi, commerce editor\n",
       "29                                                                                                                                                                                                                                                                                                                                                                                                                                                                                                                                                                                                              Detailed Denim. I’m very excited for all of spring’s not-so-basic denim, like this maxiskirt from one of my favorite shows of the season, Altuzarra. —Willow Lindley, accessories and collaborations director"
      ]
     },
     "execution_count": 33,
     "metadata": {},
     "output_type": "execute_result"
    }
   ],
   "source": [
    "df.head(30)"
   ]
  },
  {
   "cell_type": "code",
   "execution_count": 34,
   "id": "0a595980",
   "metadata": {},
   "outputs": [],
   "source": [
    "df['text'] = df['text'].str.replace('\"', '')\n",
    "df['text'] = df['text'].str.replace('-', '')\n",
    "df['text'] = df['text'].str.replace('—', ' ')\n",
    "df['text'] = df['text'].str.replace('2023 Fashion Trend: ', '')"
   ]
  },
  {
   "cell_type": "code",
   "execution_count": 35,
   "id": "acb3a9fd",
   "metadata": {},
   "outputs": [
    {
     "name": "stdout",
     "output_type": "stream",
     "text": [
      "text    Moto Detailing. You’ll probably never become a motocross racer, but if the spring runways are any indication, it’s worth dressing like one. Racing jackets, mixed leather, and buckle details abound this season, adding a highoctane edge to any ’fit no actual bikes necessary.\n"
     ]
    }
   ],
   "source": [
    "x =df.iloc[20].to_string()\n",
    "print(x)"
   ]
  },
  {
   "cell_type": "markdown",
   "id": "ae769871",
   "metadata": {},
   "source": [
    "## Custom Query Completion\n",
    "\n",
    "TODO: In the cells below, compose a custom query using your chosen dataset and retrieve results from an OpenAI `Completion` model. You may copy and paste any useful code from the course materials."
   ]
  },
  {
   "cell_type": "code",
   "execution_count": 36,
   "id": "582f0656",
   "metadata": {},
   "outputs": [],
   "source": [
    "#from openai import OpenAI\n",
    "from openai import OpenAI\n",
    "client = OpenAI(\n",
    "    base_url = \"https://openai.vocareum.com/v1\",\n",
    "    api_key = \"voc-1060074748126677387809167c0cc4388e176.51105398\"\n",
    ")\n"
   ]
  },
  {
   "cell_type": "code",
   "execution_count": 53,
   "id": "e71f12bf-9bff-437f-bb73-9d1c9c2ff43e",
   "metadata": {},
   "outputs": [],
   "source": [
    "def compare_answrs(question,model):\n",
    "    query = [\n",
    "    {\"role\": \"system\", \"content\": \"You are a helpful assistant.\"},\n",
    "    {\"role\": \"user\", \"content\":question}]\n",
    "\n",
    "    response = client.chat.completions.create(\n",
    "        model= model ,#\"gpt-3.5-turbo\",  # Use gpt-4-turbo or gpt-3.5-turbo\n",
    "        messages = query ,\n",
    "        temperature=0 \n",
    "    )\n",
    "    print(\"Question: \"+question)\n",
    "    response = response.dict()\n",
    "    print(\"##########################################################################\")\n",
    "    print(\"Answer using the default model: \"+response[\"choices\"][0][\"message\"][\"content\"])\n",
    "    embedding_model=\"text-embedding-ada-002\"\n",
    "    response= client.embeddings.create(model=embedding_model,input=df[\"text\"].tolist())\n",
    "    response= response.dict()\n",
    "    embeddings = [data[\"embedding\"] for data in response[\"data\"]]\n",
    "    df[\"embeddings\"]=embeddings\n",
    "    question_embedding = client.embeddings.create(model=embedding_model,input=question)\n",
    "    question_embedding =dict(question_embedding)\n",
    "    question_embedding=question_embedding[\"data\"][0]\n",
    "    question_embedding = dict(question_embedding)[\"embedding\"]\n",
    "    question_embedding = np.array(question_embedding).reshape(1, -1)\n",
    "    distances = cosine_distances(question_embedding, df[\"embeddings\"].tolist())[0]\n",
    "    df[\"distances\"]=distances\n",
    "    df.sort_values(by=\"distances\",inplace=True)\n",
    "    tokenizer = tiktoken.get_encoding(\"cl100k_base\")\n",
    "    tokenizer.encode(question)\n",
    "    prompt_template = \"\"\"\n",
    "    Answer the question based on the context below, and if the question\n",
    "    can't be answered based on the context, say \"I don't know\"\n",
    "    \n",
    "    Context: \n",
    "    \n",
    "    {}\n",
    "    \n",
    "    ---\n",
    "    \n",
    "    Question: {}\n",
    "    Answer:\"\"\"\n",
    "    question_tokens_cnt = len(tokenizer.encode(question))\n",
    "    context_tokens_cnt = len(tokenizer.encode(prompt_template))\n",
    "    current_token_cnt = question_tokens_cnt + context_tokens_cnt\n",
    "    context = []\n",
    "    for i in df[\"text\"].values:\n",
    "        current_token_cnt += len(tokenizer.encode(i))\n",
    "        if current_token_cnt <= 1000:\n",
    "          context.append(i)\n",
    "        else:\n",
    "            break   \n",
    "    prompt_template = prompt_template.format(\"\\n\\n###\\n\\n\".join(context),question)\n",
    "    \n",
    "    query2 = [\n",
    "    {\"role\": \"system\", \"content\": \"You are a helpful assistant.\"},\n",
    "    {\"role\": \"user\", \"content\":prompt_template}]\n",
    "\n",
    "    response2 = client.chat.completions.create(\n",
    "    model=model,  # Use gpt-4-turbo or gpt-3.5-turbo\n",
    "    messages = query2 ,\n",
    "    temperature=0 \n",
    "    )\n",
    "    response2 = response2.dict()\n",
    "    response2 =response2[\"choices\"][0][\"message\"][\"content\"]\n",
    "    print(\"##########################################################################\")\n",
    "    print(\"Answer using the custom context: \"+response2)\n",
    "\n",
    "\n",
    "    "
   ]
  },
  {
   "cell_type": "markdown",
   "id": "2f70d03b-ca91-4773-a20a-c0aa0969a4de",
   "metadata": {},
   "source": [
    " Red. Glossy red hues took over the Fall 2023 runways ranging from Sandy Liang and PatBo to Tory Burch and Wiederhoeft. Think: Juicy reds with vibrant orange undertones that would look just as good in head-to-toe looks (see: a pantsuit) as accent accessory pieces (shoes, handbags, jewelry)."
   ]
  },
  {
   "cell_type": "markdown",
   "id": "1783f146",
   "metadata": {},
   "source": [
    "## Custom Performance Demonstration\n",
    "\n",
    "TODO: In the cells below, demonstrate the performance of your custom query using at least 2 questions. For each question, show the answer from a basic `Completion` model query as well as the answer from your custom query."
   ]
  },
  {
   "cell_type": "markdown",
   "id": "4f11fdc0",
   "metadata": {},
   "source": [
    "### Question 1"
   ]
  },
  {
   "cell_type": "code",
   "execution_count": 56,
   "id": "4901c850",
   "metadata": {},
   "outputs": [
    {
     "name": "stdout",
     "output_type": "stream",
     "text": [
      "Question: Which fashion trend dominated the conversations for Spring/Summer 2023, and how did Molly Goddard interpret it?\n",
      "##########################################################################\n",
      "Answer using the default model: The fashion trend that dominated conversations for Spring/Summer 2023 was sustainability and eco-consciousness. Designers and brands focused on creating more environmentally friendly collections and promoting ethical practices within the industry.\n",
      "\n",
      "Molly Goddard interpreted this trend by incorporating sustainable materials and practices into her designs. She used organic cotton, recycled fabrics, and eco-friendly dyes to create her collection. Additionally, she emphasized the importance of transparency in her supply chain and production process to ensure that her garments were made ethically and with minimal impact on the environment. Overall, Molly Goddard's interpretation of the sustainability trend for Spring/Summer 2023 showcased her commitment to creating fashion that is both stylish and environmentally responsible.\n"
     ]
    },
    {
     "name": "stderr",
     "output_type": "stream",
     "text": [
      "C:\\Users\\ahmed\\AppData\\Local\\Temp\\ipykernel_41292\\3362761342.py:12: PydanticDeprecatedSince20: The `dict` method is deprecated; use `model_dump` instead. Deprecated in Pydantic V2.0 to be removed in V3.0. See Pydantic V2 Migration Guide at https://errors.pydantic.dev/2.10/migration/\n",
      "  response = response.dict()\n",
      "C:\\Users\\ahmed\\AppData\\Local\\Temp\\ipykernel_41292\\3362761342.py:17: PydanticDeprecatedSince20: The `dict` method is deprecated; use `model_dump` instead. Deprecated in Pydantic V2.0 to be removed in V3.0. See Pydantic V2 Migration Guide at https://errors.pydantic.dev/2.10/migration/\n",
      "  response= response.dict()\n"
     ]
    },
    {
     "name": "stdout",
     "output_type": "stream",
     "text": [
      "##########################################################################\n",
      "Answer using the custom context: Sheer fashion dominated the conversations for Spring/Summer 2023. Molly Goddard interpreted this trend with her romantic take, featuring her signature ruffle details on sheer orange midi dresses.\n"
     ]
    },
    {
     "name": "stderr",
     "output_type": "stream",
     "text": [
      "C:\\Users\\ahmed\\AppData\\Local\\Temp\\ipykernel_41292\\3362761342.py:63: PydanticDeprecatedSince20: The `dict` method is deprecated; use `model_dump` instead. Deprecated in Pydantic V2.0 to be removed in V3.0. See Pydantic V2 Migration Guide at https://errors.pydantic.dev/2.10/migration/\n",
      "  response2 = response2.dict()\n"
     ]
    }
   ],
   "source": [
    "question =\"Which fashion trend dominated the conversations for Spring/Summer 2023, and how did Molly Goddard interpret it?\"\n",
    "model = \"gpt-3.5-turbo\"\n",
    "compare_answrs(question,model)"
   ]
  },
  {
   "cell_type": "markdown",
   "id": "6e86e37c",
   "metadata": {},
   "source": [
    "### Question 2"
   ]
  },
  {
   "cell_type": "code",
   "execution_count": 55,
   "id": "6f646989",
   "metadata": {},
   "outputs": [
    {
     "name": "stdout",
     "output_type": "stream",
     "text": [
      "Question: What are the trending fashion items for this spring, according to stylist Naina Singla?\n",
      "##########################################################################\n",
      "Answer using the default model: I'm sorry, but I don't have real-time access to the latest trends from stylist Naina Singla. However, some general trends for spring 2021 include pastel colors, oversized blazers, statement sleeves, crochet pieces, and wide-leg pants. You can check Naina Singla's website or social media for more specific and up-to-date fashion recommendations.\n"
     ]
    },
    {
     "name": "stderr",
     "output_type": "stream",
     "text": [
      "C:\\Users\\ahmed\\AppData\\Local\\Temp\\ipykernel_41292\\3362761342.py:12: PydanticDeprecatedSince20: The `dict` method is deprecated; use `model_dump` instead. Deprecated in Pydantic V2.0 to be removed in V3.0. See Pydantic V2 Migration Guide at https://errors.pydantic.dev/2.10/migration/\n",
      "  response = response.dict()\n",
      "C:\\Users\\ahmed\\AppData\\Local\\Temp\\ipykernel_41292\\3362761342.py:17: PydanticDeprecatedSince20: The `dict` method is deprecated; use `model_dump` instead. Deprecated in Pydantic V2.0 to be removed in V3.0. See Pydantic V2 Migration Guide at https://errors.pydantic.dev/2.10/migration/\n",
      "  response= response.dict()\n"
     ]
    },
    {
     "name": "stdout",
     "output_type": "stream",
     "text": [
      "##########################################################################\n",
      "Answer using the custom context: Statement maxi skirts are the trending fashion items for this spring, according to stylist Naina Singla.\n"
     ]
    },
    {
     "name": "stderr",
     "output_type": "stream",
     "text": [
      "C:\\Users\\ahmed\\AppData\\Local\\Temp\\ipykernel_41292\\3362761342.py:63: PydanticDeprecatedSince20: The `dict` method is deprecated; use `model_dump` instead. Deprecated in Pydantic V2.0 to be removed in V3.0. See Pydantic V2 Migration Guide at https://errors.pydantic.dev/2.10/migration/\n",
      "  response2 = response2.dict()\n"
     ]
    }
   ],
   "source": [
    "question =\"What are the trending fashion items for this spring, according to stylist Naina Singla?\"\n",
    "model = \"gpt-3.5-turbo\"\n",
    "compare_answrs(question,model)"
   ]
  },
  {
   "cell_type": "code",
   "execution_count": null,
   "id": "11c07a54",
   "metadata": {},
   "outputs": [],
   "source": []
  }
 ],
 "metadata": {
  "kernelspec": {
   "display_name": "Python 3 (ipykernel)",
   "language": "python",
   "name": "python3"
  },
  "language_info": {
   "codemirror_mode": {
    "name": "ipython",
    "version": 3
   },
   "file_extension": ".py",
   "mimetype": "text/x-python",
   "name": "python",
   "nbconvert_exporter": "python",
   "pygments_lexer": "ipython3",
   "version": "3.11.9"
  }
 },
 "nbformat": 4,
 "nbformat_minor": 5
}
